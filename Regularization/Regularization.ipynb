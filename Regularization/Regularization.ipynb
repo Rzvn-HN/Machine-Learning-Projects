{
  "nbformat": 4,
  "nbformat_minor": 0,
  "metadata": {
    "colab": {
      "provenance": [],
      "gpuType": "T4",
      "collapsed_sections": [
        "sDDdf9AAoYXt"
      ]
    },
    "kernelspec": {
      "name": "python3",
      "display_name": "Python 3"
    },
    "language_info": {
      "name": "python"
    }
  },
  "cells": [
    {
      "cell_type": "markdown",
      "source": [
        "## Imports"
      ],
      "metadata": {
        "id": "sDDdf9AAoYXt"
      }
    },
    {
      "cell_type": "code",
      "source": [
        "import os\n",
        "import pandas\n",
        "from sklearn.linear_model import LinearRegression, Lasso, Ridge\n",
        "from sklearn.metrics import mean_squared_error, r2_score\n",
        "from sklearn.model_selection import train_test_split\n",
        "from sklearn.preprocessing import StandardScaler, PolynomialFeatures\n",
        "import numpy as np\n",
        "import pandas as pd\n",
        "import seaborn as sns\n",
        "from joblib import dump, load\n",
        "from matplotlib import pyplot as plt\n",
        "\n",
        "!wget -O /HousingData.csv \"https://www.dropbox.com/scl/fi/j3rxgrd8l7fgczzhiedlp/new.csv?rlkey=yngaf57gumhtmm3hxffk20qll&dl=0\""
      ],
      "metadata": {
        "id": "kkjrbInyoRyN",
        "colab": {
          "base_uri": "https://localhost:8080/"
        },
        "outputId": "0be7e228-1d9d-4d9e-ec3d-04724bb4bd4b"
      },
      "execution_count": null,
      "outputs": [
        {
          "output_type": "stream",
          "name": "stdout",
          "text": [
            "--2024-04-12 22:01:35--  https://www.dropbox.com/scl/fi/j3rxgrd8l7fgczzhiedlp/new.csv?rlkey=yngaf57gumhtmm3hxffk20qll&dl=0\n",
            "Resolving www.dropbox.com (www.dropbox.com)... 162.125.80.18, 2620:100:6035:18::a27d:5512\n",
            "Connecting to www.dropbox.com (www.dropbox.com)|162.125.80.18|:443... connected.\n",
            "HTTP request sent, awaiting response... 302 Found\n",
            "Location: https://uc71db52ae6761722cad93c9b8d0.dl.dropboxusercontent.com/cd/0/inline/CQ5IfU4HpqXrraV2AJHiA3XF7E8hpXKYSy46USL81luCMk_fWSunp3pFTEfvsEXjLv-KvOGyzpZgd3fy5QVgwwTjYr1DOJJ9-gB5RxUxeBafIBm0dr-uAL7-766S4P_om0st8JDF-vPihcfjt8rlqe7N/file# [following]\n",
            "--2024-04-12 22:01:35--  https://uc71db52ae6761722cad93c9b8d0.dl.dropboxusercontent.com/cd/0/inline/CQ5IfU4HpqXrraV2AJHiA3XF7E8hpXKYSy46USL81luCMk_fWSunp3pFTEfvsEXjLv-KvOGyzpZgd3fy5QVgwwTjYr1DOJJ9-gB5RxUxeBafIBm0dr-uAL7-766S4P_om0st8JDF-vPihcfjt8rlqe7N/file\n",
            "Resolving uc71db52ae6761722cad93c9b8d0.dl.dropboxusercontent.com (uc71db52ae6761722cad93c9b8d0.dl.dropboxusercontent.com)... 162.125.80.15, 2620:100:6030:15::a27d:500f\n",
            "Connecting to uc71db52ae6761722cad93c9b8d0.dl.dropboxusercontent.com (uc71db52ae6761722cad93c9b8d0.dl.dropboxusercontent.com)|162.125.80.15|:443... connected.\n",
            "HTTP request sent, awaiting response... 200 OK\n",
            "Length: 37599 (37K) [text/plain]\n",
            "Saving to: ‘/HousingData.csv’\n",
            "\n",
            "/HousingData.csv    100%[===================>]  36.72K  --.-KB/s    in 0.05s   \n",
            "\n",
            "2024-04-12 22:01:36 (769 KB/s) - ‘/HousingData.csv’ saved [37599/37599]\n",
            "\n"
          ]
        }
      ]
    },
    {
      "cell_type": "markdown",
      "source": [
        "# Load and Explore"
      ],
      "metadata": {
        "id": "jBpa9AGHEtD7"
      }
    },
    {
      "cell_type": "markdown",
      "source": [
        "Load the dataset (as a dataframe) using pandas and display the top 5 rows of the dataframe and then check for missing values and impute missing values with mean"
      ],
      "metadata": {
        "id": "MFzJZLOxoZDJ"
      }
    },
    {
      "cell_type": "code",
      "source": [
        "file_path = '/HousingData.csv'\n",
        "data = pd.read_csv(file_path)\n",
        "\n",
        "missing_values = data.isnull().sum()\n",
        "print(\"Missing values in dataset:\")\n",
        "print(missing_values)\n",
        "\n",
        "data.fillna(data.mean(), inplace=True)"
      ],
      "metadata": {
        "id": "lqhABVd2oZYV",
        "collapsed": true
      },
      "execution_count": null,
      "outputs": []
    },
    {
      "cell_type": "markdown",
      "source": [
        "Get a brief description of the dataset"
      ],
      "metadata": {
        "id": "5-Py3iuJoZwi"
      }
    },
    {
      "cell_type": "code",
      "source": [
        "print(\"\\nDataset Information:\")\n",
        "print(data.info())\n",
        "\n",
        "print(\"\\nSummary of Dataset:\")\n",
        "print(data.describe())"
      ],
      "metadata": {
        "id": "zThHHTAcoZ_h"
      },
      "execution_count": null,
      "outputs": []
    },
    {
      "cell_type": "markdown",
      "source": [
        "Extract only the features from the dataframe by removing the target column and then Convert the new dataframe into a numpy array\n",
        "</br>\n",
        "Note: **Do not remove the previous dataframe.**\n"
      ],
      "metadata": {
        "id": "gHcKVT_4oabK"
      }
    },
    {
      "cell_type": "markdown",
      "source": [
        "# Preprocessing"
      ],
      "metadata": {
        "id": "VkDUEmURE-Sx"
      }
    },
    {
      "cell_type": "code",
      "source": [
        "X = data.drop('MEDV', axis=1).values\n",
        "print(X)\n",
        "\n",
        "\n"
      ],
      "metadata": {
        "id": "FtT8kFoBoajv",
        "colab": {
          "base_uri": "https://localhost:8080/"
        },
        "outputId": "c5c7c009-9d85-4271-8716-db2a3c216809"
      },
      "execution_count": null,
      "outputs": [
        {
          "output_type": "stream",
          "name": "stdout",
          "text": [
            "[[6.3200e-03 1.8000e+01 2.3100e+00 ... 1.5300e+01 3.9690e+02 4.9800e+00]\n",
            " [2.7310e-02 0.0000e+00 7.0700e+00 ... 1.7800e+01 3.9690e+02 9.1400e+00]\n",
            " [2.7290e-02 0.0000e+00 7.0700e+00 ... 1.7800e+01 3.9283e+02 4.0300e+00]\n",
            " ...\n",
            " [6.0760e-02 0.0000e+00 1.1930e+01 ... 2.1000e+01 3.9690e+02 5.6400e+00]\n",
            " [1.0959e-01 0.0000e+00 1.1930e+01 ... 2.1000e+01 3.9345e+02 6.4800e+00]\n",
            " [4.7410e-02 0.0000e+00 1.1930e+01 ... 2.1000e+01 3.9690e+02 7.8800e+00]]\n"
          ]
        }
      ]
    },
    {
      "cell_type": "markdown",
      "source": [
        "look for outliers using box plot and if There are some outliers in data, use StandardScaler can help in scaling data."
      ],
      "metadata": {
        "id": "forjBjgQHDz0"
      }
    },
    {
      "cell_type": "code",
      "source": [
        "plt.figure(figsize=(10, 6))\n",
        "sns.boxplot(data=data.drop('MEDV', axis=1))\n",
        "plt.title('Features')\n",
        "plt.xticks(rotation=45)\n",
        "plt.show()\n",
        "scaler = StandardScaler()\n",
        "X_scale = scaler.fit_transform(X)"
      ],
      "metadata": {
        "id": "fJVP9gGnFHbM",
        "colab": {
          "base_uri": "https://localhost:8080/",
          "height": 581
        },
        "outputId": "f37b1646-07aa-40e5-e4e7-9c676ea69d82"
      },
      "execution_count": null,
      "outputs": [
        {
          "output_type": "display_data",
          "data": {
            "text/plain": [
              "<Figure size 1000x600 with 1 Axes>"
            ],
            "image/png": "[encoded data removed]"
          },
          "metadata": {}
        }
      ]
    },
    {
      "cell_type": "markdown",
      "source": [
        "add polynomial features to increase model complexity!\n",
        "\n"
      ],
      "metadata": {
        "id": "mLfX6ugX3fNM"
      }
    },
    {
      "cell_type": "code",
      "source": [
        "y = data['MEDV'].values\n",
        "poly_features = PolynomialFeatures(degree=2)\n",
        "X_polynomial = poly_features.fit_transform(X_scale)"
      ],
      "metadata": {
        "id": "rkEQ02jU3fXj"
      },
      "execution_count": null,
      "outputs": []
    },
    {
      "cell_type": "markdown",
      "source": [
        "Extract the target column from the previously mentioned DataFrame and transform it into a new NumPy array, named y."
      ],
      "metadata": {
        "id": "8_TZ52zNoatM"
      }
    },
    {
      "cell_type": "code",
      "source": [
        "y = data['MEDV'].to_numpy()"
      ],
      "metadata": {
        "id": "lzDxTUBFoa4I"
      },
      "execution_count": null,
      "outputs": []
    },
    {
      "cell_type": "markdown",
      "source": [
        "\n",
        "\n",
        "Split the dataset into two parts such that the training set contains 80% of the samples."
      ],
      "metadata": {
        "id": "6zVgga7tobBP"
      }
    },
    {
      "cell_type": "code",
      "source": [
        "X_train, X_test, y_train, y_test = train_test_split(X_polynomial, y, test_size=0.2)"
      ],
      "metadata": {
        "id": "2LGiy-8LobKh"
      },
      "execution_count": null,
      "outputs": []
    },
    {
      "cell_type": "markdown",
      "source": [
        "# Training"
      ],
      "metadata": {
        "id": "s-rejkt9FHTj"
      }
    },
    {
      "cell_type": "markdown",
      "source": [
        "\n",
        "Fit a linear regressor to the data. (Use sklearn)\n"
      ],
      "metadata": {
        "id": "_qoiRXLOv25z"
      }
    },
    {
      "cell_type": "code",
      "source": [
        "linear_reg = LinearRegression()\n",
        "linear_reg.fit(X_train, y_train)"
      ],
      "metadata": {
        "id": "jWvwdl-Iv3FF",
        "colab": {
          "base_uri": "https://localhost:8080/",
          "height": 75
        },
        "outputId": "e5411105-57c5-49ae-f966-6219963ed514"
      },
      "execution_count": null,
      "outputs": [
        {
          "output_type": "execute_result",
          "data": {
            "text/plain": [
              "LinearRegression()"
            ],
            "text/html": [
              "<style>#sk-container-id-6 {color: black;background-color: white;}#sk-container-id-6 pre{padding: 0;}#sk-container-id-6 div.sk-toggleable {background-color: white;}#sk-container-id-6 label.sk-toggleable__label {cursor: pointer;display: block;width: 100%;margin-bottom: 0;padding: 0.3em;box-sizing: border-box;text-align: center;}#sk-container-id-6 label.sk-toggleable__label-arrow:before {content: \"▸\";float: left;margin-right: 0.25em;color: #696969;}#sk-container-id-6 label.sk-toggleable__label-arrow:hover:before {color: black;}#sk-container-id-6 div.sk-estimator:hover label.sk-toggleable__label-arrow:before {color: black;}#sk-container-id-6 div.sk-toggleable__content {max-height: 0;max-width: 0;overflow: hidden;text-align: left;background-color: #f0f8ff;}#sk-container-id-6 div.sk-toggleable__content pre {margin: 0.2em;color: black;border-radius: 0.25em;background-color: #f0f8ff;}#sk-container-id-6 input.sk-toggleable__control:checked~div.sk-toggleable__content {max-height: 200px;max-width: 100%;overflow: auto;}#sk-container-id-6 input.sk-toggleable__control:checked~label.sk-toggleable__label-arrow:before {content: \"▾\";}#sk-container-id-6 div.sk-estimator input.sk-toggleable__control:checked~label.sk-toggleable__label {background-color: #d4ebff;}#sk-container-id-6 div.sk-label input.sk-toggleable__control:checked~label.sk-toggleable__label {background-color: #d4ebff;}#sk-container-id-6 input.sk-hidden--visually {border: 0;clip: rect(1px 1px 1px 1px);clip: rect(1px, 1px, 1px, 1px);height: 1px;margin: -1px;overflow: hidden;padding: 0;position: absolute;width: 1px;}#sk-container-id-6 div.sk-estimator {font-family: monospace;background-color: #f0f8ff;border: 1px dotted black;border-radius: 0.25em;box-sizing: border-box;margin-bottom: 0.5em;}#sk-container-id-6 div.sk-estimator:hover {background-color: #d4ebff;}#sk-container-id-6 div.sk-parallel-item::after {content: \"\";width: 100%;border-bottom: 1px solid gray;flex-grow: 1;}#sk-container-id-6 div.sk-label:hover label.sk-toggleable__label {background-color: #d4ebff;}#sk-container-id-6 div.sk-serial::before {content: \"\";position: absolute;border-left: 1px solid gray;box-sizing: border-box;top: 0;bottom: 0;left: 50%;z-index: 0;}#sk-container-id-6 div.sk-serial {display: flex;flex-direction: column;align-items: center;background-color: white;padding-right: 0.2em;padding-left: 0.2em;position: relative;}#sk-container-id-6 div.sk-item {position: relative;z-index: 1;}#sk-container-id-6 div.sk-parallel {display: flex;align-items: stretch;justify-content: center;background-color: white;position: relative;}#sk-container-id-6 div.sk-item::before, #sk-container-id-6 div.sk-parallel-item::before {content: \"\";position: absolute;border-left: 1px solid gray;box-sizing: border-box;top: 0;bottom: 0;left: 50%;z-index: -1;}#sk-container-id-6 div.sk-parallel-item {display: flex;flex-direction: column;z-index: 1;position: relative;background-color: white;}#sk-container-id-6 div.sk-parallel-item:first-child::after {align-self: flex-end;width: 50%;}#sk-container-id-6 div.sk-parallel-item:last-child::after {align-self: flex-start;width: 50%;}#sk-container-id-6 div.sk-parallel-item:only-child::after {width: 0;}#sk-container-id-6 div.sk-dashed-wrapped {border: 1px dashed gray;margin: 0 0.4em 0.5em 0.4em;box-sizing: border-box;padding-bottom: 0.4em;background-color: white;}#sk-container-id-6 div.sk-label label {font-family: monospace;font-weight: bold;display: inline-block;line-height: 1.2em;}#sk-container-id-6 div.sk-label-container {text-align: center;}#sk-container-id-6 div.sk-container {/* jupyter's `normalize.less` sets `[hidden] { display: none; }` but bootstrap.min.css set `[hidden] { display: none !important; }` so we also need the `!important` here to be able to override the default hidden behavior on the sphinx rendered scikit-learn.org. See: https://github.com/scikit-learn/scikit-learn/issues/21755 */display: inline-block !important;position: relative;}#sk-container-id-6 div.sk-text-repr-fallback {display: none;}</style><div id=\"sk-container-id-6\" class=\"sk-top-container\"><div class=\"sk-text-repr-fallback\"><pre>LinearRegression()</pre><b>In a Jupyter environment, please rerun this cell to show the HTML representation or trust the notebook. <br />On GitHub, the HTML representation is unable to render, please try loading this page with nbviewer.org.</b></div><div class=\"sk-container\" hidden><div class=\"sk-item\"><div class=\"sk-estimator sk-toggleable\"><input class=\"sk-toggleable__control sk-hidden--visually\" id=\"sk-estimator-id-6\" type=\"checkbox\" checked><label for=\"sk-estimator-id-6\" class=\"sk-toggleable__label sk-toggleable__label-arrow\">LinearRegression</label><div class=\"sk-toggleable__content\"><pre>LinearRegression()</pre></div></div></div></div></div>"
            ]
          },
          "metadata": {},
          "execution_count": 77
        }
      ]
    },
    {
      "cell_type": "markdown",
      "source": [
        "Get the coefficients of the variables and visualize it"
      ],
      "metadata": {
        "id": "8ytvTJ60v3Oq"
      }
    },
    {
      "cell_type": "code",
      "source": [
        "linear_coefficients = linear_reg.coef_\n",
        "print( linear_coefficients)\n",
        "\n",
        "plt.figure(figsize=(10, 6))\n",
        "sns.barplot(linear_coefficients, native_scale=True, color = 'BLUE')\n",
        "plt.show()\n"
      ],
      "metadata": {
        "id": "Lh9C3xihv3X3",
        "colab": {
          "base_uri": "https://localhost:8080/",
          "height": 921
        },
        "outputId": "78820723-0a05-4293-e443-0f4028511658"
      },
      "execution_count": null,
      "outputs": [
        {
          "output_type": "stream",
          "name": "stdout",
          "text": [
            "[ 1.39675477e-15  2.58289131e-01  9.89103057e-01  8.86369956e-01\n",
            " -1.68898339e+00 -1.78776343e+00  3.65086593e+00 -1.67024550e+00\n",
            " -3.14001178e+00 -1.33586132e+00 -8.68614766e-01 -3.80128818e-01\n",
            " -2.92883842e+00  1.84823430e-01  1.52055392e+00  5.11517582e+00\n",
            "  2.41811638e+00 -2.66567208e+00 -2.15833254e-01 -1.18264707e+00\n",
            " -1.95447387e+00 -1.70657988e+00 -3.65654679e+00  3.19038836e-01\n",
            "  4.07390541e-01 -3.00101102e-01  2.16126009e-01  1.31006376e-01\n",
            " -2.33494185e+00 -9.88495391e-02  5.74015256e-01 -2.73244972e-01\n",
            "  2.58204317e+00 -4.99388179e-01 -1.23808103e+00 -1.67773013e+00\n",
            "  8.55401287e-01 -1.45307605e-01  1.41120933e-01  7.52971736e-01\n",
            "  1.74849134e+00  1.85616458e+00 -1.81890577e+00 -6.22008610e-01\n",
            "  4.06043099e-01 -1.33821803e+00  8.88559138e-01 -9.69312579e-01\n",
            " -1.09675082e+00  4.59762344e-01 -6.40384583e-02  6.91303142e-01\n",
            " -2.54993279e-01  2.25614628e-02 -5.04318734e-01  5.24540427e-01\n",
            " -1.29235139e-01 -1.88315541e-01  4.03308579e+00  5.39259528e-02\n",
            " -8.81805086e-01 -4.61254342e-01  1.43165587e+00  4.01965307e-01\n",
            " -3.86929127e-02  4.44228635e-01 -2.56889499e+00 -7.67703321e-01\n",
            " -4.30406446e-01 -2.31905677e-01 -6.91028157e-02  4.01268400e-01\n",
            " -1.40754881e-01  3.00480525e-02 -1.65057977e+00 -8.13362462e-01\n",
            "  2.29755282e+00 -3.92244877e+00  9.60060210e-02 -5.39297866e-01\n",
            "  1.20026697e+00  7.91630813e-01  3.88740297e+00 -2.50726043e-02\n",
            " -2.71113287e+00 -1.98172457e-01  7.82830383e-02  1.55650413e-01\n",
            " -4.93369147e-01 -9.22477149e-01  9.33734814e-01]\n"
          ]
        },
        {
          "output_type": "display_data",
          "data": {
            "text/plain": [
              "<Figure size 1000x600 with 1 Axes>"
            ],
            "image/png": "[encoded data removed]"
          },
          "metadata": {}
        }
      ]
    },
    {
      "cell_type": "markdown",
      "source": [
        "Get the score value of sklearn regressor on train dataset</br>\n",
        "if you are not familiar with R-squared concept see the link below:\n",
        "[R-squared](https://statisticsbyjim.com/regression/interpret-r-squared-regression/)\n",
        "\n"
      ],
      "metadata": {
        "id": "eTCcA4W8v3f4"
      }
    },
    {
      "cell_type": "code",
      "source": [
        "train_r2_score = linear_reg.score(X_train, y_train)\n",
        "y_train_predict = linear_reg.predict(X_train)\n",
        "train_mse = mean_squared_error(y_train, y_train_predict)\n",
        "\n",
        "print(\"R² score on training :\", train_r2_score)\n",
        "print(\"MSE:\", train_mse)"
      ],
      "metadata": {
        "id": "onAXRIl7v3qJ",
        "colab": {
          "base_uri": "https://localhost:8080/"
        },
        "outputId": "a9acd214-6342-44fc-b4b5-47a395d8342e"
      },
      "execution_count": null,
      "outputs": [
        {
          "output_type": "stream",
          "name": "stdout",
          "text": [
            "R² score on training : 0.9148122540585776\n",
            "MSE: 7.495765738346277\n"
          ]
        }
      ]
    },
    {
      "cell_type": "markdown",
      "source": [
        "Predict the value of \"y\" for each \"x\" belonging to the \"testing\" set"
      ],
      "metadata": {
        "id": "RXBvLGMcwpbT"
      }
    },
    {
      "cell_type": "code",
      "source": [
        "y_test_predict = linear_reg.predict(X_test)\n",
        "\n",
        "test_r2_score = r2_score(y_test, y_test_predict)\n",
        "test_mse = mean_squared_error(y_test, y_test_predict)\n",
        "\n",
        "print(\"\\nR² score on testing:\", test_r2_score)\n",
        "print(\"MSE:\", test_mse)"
      ],
      "metadata": {
        "id": "bA_DNqeKwprp",
        "colab": {
          "base_uri": "https://localhost:8080/"
        },
        "outputId": "fb0ae183-bb26-4598-df3a-fc9342361ce9"
      },
      "execution_count": null,
      "outputs": [
        {
          "output_type": "stream",
          "name": "stdout",
          "text": [
            "\n",
            "R² score on testing: 0.7753831717332422\n",
            "MSE: 15.766649668477434\n"
          ]
        }
      ]
    },
    {
      "cell_type": "markdown",
      "source": [
        "# Lasso Regularization(L1)"
      ],
      "metadata": {
        "id": "z_aF3pNEFP79"
      }
    },
    {
      "cell_type": "markdown",
      "source": [
        "L1 regularization, also known as Lasso (Least Absolute Shrinkage and Selection Operator) regularization, is a technique used in regression models that encourages simplicity and sparsity in the model coefficients. This is achieved by adding a penalty equal to the absolute value of the magnitude of coefficients to the loss function.\\\n",
        "</br>\n",
        "Train a regression model using L1 regularization."
      ],
      "metadata": {
        "id": "PPMTy_D_wp-X"
      }
    },
    {
      "cell_type": "code",
      "source": [
        "lasso_reg = Lasso(alpha=0.01)\n",
        "lasso_reg.fit(X_train, y_train)"
      ],
      "metadata": {
        "id": "SHr5JR4fwqHO",
        "colab": {
          "base_uri": "https://localhost:8080/",
          "height": 75
        },
        "outputId": "61652c98-62aa-4a96-eba0-448ebc9c022b"
      },
      "execution_count": null,
      "outputs": [
        {
          "output_type": "execute_result",
          "data": {
            "text/plain": [
              "Lasso(alpha=0.01)"
            ],
            "text/html": [
              "<style>#sk-container-id-2 {color: black;background-color: white;}#sk-container-id-2 pre{padding: 0;}#sk-container-id-2 div.sk-toggleable {background-color: white;}#sk-container-id-2 label.sk-toggleable__label {cursor: pointer;display: block;width: 100%;margin-bottom: 0;padding: 0.3em;box-sizing: border-box;text-align: center;}#sk-container-id-2 label.sk-toggleable__label-arrow:before {content: \"▸\";float: left;margin-right: 0.25em;color: #696969;}#sk-container-id-2 label.sk-toggleable__label-arrow:hover:before {color: black;}#sk-container-id-2 div.sk-estimator:hover label.sk-toggleable__label-arrow:before {color: black;}#sk-container-id-2 div.sk-toggleable__content {max-height: 0;max-width: 0;overflow: hidden;text-align: left;background-color: #f0f8ff;}#sk-container-id-2 div.sk-toggleable__content pre {margin: 0.2em;color: black;border-radius: 0.25em;background-color: #f0f8ff;}#sk-container-id-2 input.sk-toggleable__control:checked~div.sk-toggleable__content {max-height: 200px;max-width: 100%;overflow: auto;}#sk-container-id-2 input.sk-toggleable__control:checked~label.sk-toggleable__label-arrow:before {content: \"▾\";}#sk-container-id-2 div.sk-estimator input.sk-toggleable__control:checked~label.sk-toggleable__label {background-color: #d4ebff;}#sk-container-id-2 div.sk-label input.sk-toggleable__control:checked~label.sk-toggleable__label {background-color: #d4ebff;}#sk-container-id-2 input.sk-hidden--visually {border: 0;clip: rect(1px 1px 1px 1px);clip: rect(1px, 1px, 1px, 1px);height: 1px;margin: -1px;overflow: hidden;padding: 0;position: absolute;width: 1px;}#sk-container-id-2 div.sk-estimator {font-family: monospace;background-color: #f0f8ff;border: 1px dotted black;border-radius: 0.25em;box-sizing: border-box;margin-bottom: 0.5em;}#sk-container-id-2 div.sk-estimator:hover {background-color: #d4ebff;}#sk-container-id-2 div.sk-parallel-item::after {content: \"\";width: 100%;border-bottom: 1px solid gray;flex-grow: 1;}#sk-container-id-2 div.sk-label:hover label.sk-toggleable__label {background-color: #d4ebff;}#sk-container-id-2 div.sk-serial::before {content: \"\";position: absolute;border-left: 1px solid gray;box-sizing: border-box;top: 0;bottom: 0;left: 50%;z-index: 0;}#sk-container-id-2 div.sk-serial {display: flex;flex-direction: column;align-items: center;background-color: white;padding-right: 0.2em;padding-left: 0.2em;position: relative;}#sk-container-id-2 div.sk-item {position: relative;z-index: 1;}#sk-container-id-2 div.sk-parallel {display: flex;align-items: stretch;justify-content: center;background-color: white;position: relative;}#sk-container-id-2 div.sk-item::before, #sk-container-id-2 div.sk-parallel-item::before {content: \"\";position: absolute;border-left: 1px solid gray;box-sizing: border-box;top: 0;bottom: 0;left: 50%;z-index: -1;}#sk-container-id-2 div.sk-parallel-item {display: flex;flex-direction: column;z-index: 1;position: relative;background-color: white;}#sk-container-id-2 div.sk-parallel-item:first-child::after {align-self: flex-end;width: 50%;}#sk-container-id-2 div.sk-parallel-item:last-child::after {align-self: flex-start;width: 50%;}#sk-container-id-2 div.sk-parallel-item:only-child::after {width: 0;}#sk-container-id-2 div.sk-dashed-wrapped {border: 1px dashed gray;margin: 0 0.4em 0.5em 0.4em;box-sizing: border-box;padding-bottom: 0.4em;background-color: white;}#sk-container-id-2 div.sk-label label {font-family: monospace;font-weight: bold;display: inline-block;line-height: 1.2em;}#sk-container-id-2 div.sk-label-container {text-align: center;}#sk-container-id-2 div.sk-container {/* jupyter's `normalize.less` sets `[hidden] { display: none; }` but bootstrap.min.css set `[hidden] { display: none !important; }` so we also need the `!important` here to be able to override the default hidden behavior on the sphinx rendered scikit-learn.org. See: https://github.com/scikit-learn/scikit-learn/issues/21755 */display: inline-block !important;position: relative;}#sk-container-id-2 div.sk-text-repr-fallback {display: none;}</style><div id=\"sk-container-id-2\" class=\"sk-top-container\"><div class=\"sk-text-repr-fallback\"><pre>Lasso(alpha=0.01)</pre><b>In a Jupyter environment, please rerun this cell to show the HTML representation or trust the notebook. <br />On GitHub, the HTML representation is unable to render, please try loading this page with nbviewer.org.</b></div><div class=\"sk-container\" hidden><div class=\"sk-item\"><div class=\"sk-estimator sk-toggleable\"><input class=\"sk-toggleable__control sk-hidden--visually\" id=\"sk-estimator-id-2\" type=\"checkbox\" checked><label for=\"sk-estimator-id-2\" class=\"sk-toggleable__label sk-toggleable__label-arrow\">Lasso</label><div class=\"sk-toggleable__content\"><pre>Lasso(alpha=0.01)</pre></div></div></div></div></div>"
            ]
          },
          "metadata": {},
          "execution_count": 37
        }
      ]
    },
    {
      "cell_type": "markdown",
      "source": [
        "Get the coefficients of the variables and visualize it."
      ],
      "metadata": {
        "id": "du892nvjwqPi"
      }
    },
    {
      "cell_type": "code",
      "source": [
        "lasso_coefficients = lasso_reg.coef_\n",
        "print(\"Lasso Coefficients:\\n\", lasso_coefficients)\n",
        "\n",
        "plt.figure(figsize=(10, 6))\n",
        "sns.barplot(lasso_reg.coef_, native_scale=True, color = 'BLACK')\n",
        "\n",
        "plt.show()"
      ],
      "metadata": {
        "id": "W-yiCdq1wqcn",
        "colab": {
          "base_uri": "https://localhost:8080/",
          "height": 940
        },
        "outputId": "75733a37-f021-416e-ed44-d9523af100b3"
      },
      "execution_count": null,
      "outputs": [
        {
          "output_type": "stream",
          "name": "stdout",
          "text": [
            "Lasso Coefficients:\n",
            " [ 0.00000000e+00  2.83440206e-01  2.00800772e-01 -3.59904977e-04\n",
            " -0.00000000e+00 -1.82998892e+00  3.30420175e+00 -1.29408635e+00\n",
            " -2.93414830e+00 -7.78046754e-01 -6.15547651e-01  8.21438861e-01\n",
            " -3.16652160e+00  1.45818219e-01 -5.72215417e-01  0.00000000e+00\n",
            "  3.74009836e+00 -1.92983858e+00 -1.72337091e-01 -0.00000000e+00\n",
            " -1.40849042e-03  1.78084248e-01  0.00000000e+00 -2.43753954e-02\n",
            "  6.34260943e-02 -2.63297448e-02  1.54415787e-01  1.62553928e-01\n",
            " -7.76160772e-01 -5.23716386e-02 -5.99243862e-02 -2.86506178e-01\n",
            "  9.19355240e-01  2.35031964e-02 -3.15204743e-01 -4.08411906e-01\n",
            "  1.64888515e-01  3.56588750e-01  1.15382962e+00  2.84816149e-01\n",
            "  7.23071862e-01  1.40893066e+00 -6.83147156e-01 -1.15851248e-01\n",
            "  0.00000000e+00 -1.01205973e+00  4.40094336e-01 -1.02385240e+00\n",
            " -7.71106271e-01 -2.34584302e-01 -3.83526209e-01  0.00000000e+00\n",
            " -2.69017040e-01  0.00000000e+00 -3.17743044e-01 -0.00000000e+00\n",
            " -7.45228974e-01 -2.99613980e-01  2.65900008e+00 -0.00000000e+00\n",
            " -9.34295253e-01 -1.74924065e-01  6.38300143e-01  3.02980637e-01\n",
            " -3.78429427e-01  4.94880894e-01 -5.04632074e-01 -1.53059456e+00\n",
            " -1.93713262e-01 -1.59007137e-01  3.83328463e-01  4.24323557e-01\n",
            " -3.76787356e-01  1.16048737e-03 -1.36839486e+00 -8.56997763e-01\n",
            "  2.17028607e+00 -2.15732878e+00 -1.47884756e-01 -0.00000000e+00\n",
            "  1.01297897e+00  4.96144216e-01  2.49779684e+00 -3.56170754e-01\n",
            " -1.42243098e+00 -2.41088811e-01 -0.00000000e+00 -5.20039896e-01\n",
            " -4.13591567e-01 -2.39709156e-01  1.22933526e+00]\n"
          ]
        },
        {
          "output_type": "display_data",
          "data": {
            "text/plain": [
              "<Figure size 1000x600 with 1 Axes>"
            ],
            "image/png": "[encoded data removed]"
          },
          "metadata": {}
        }
      ]
    },
    {
      "cell_type": "markdown",
      "source": [
        "1- What observations can you make about the weight distribution when applying L1 regularization?\n",
        "\n",
        "2- How do different values of the regularization parameter (alpha) affect the sparsity of the model coefficients?"
      ],
      "metadata": {
        "id": "mI3QuD8Wydqc"
      }
    },
    {
      "cell_type": "markdown",
      "source": [
        "1. It causes some coefficients to get closer to zero; overall, it identifies the important features and discards the less significant ones.\n",
        "\n",
        "2. As the value of (alpha) increases, the penalty on the absolute values of the coefficients becomes stronger. Increasing it causes more coefficients to reach zero and increases the sparsity of the model."
      ],
      "metadata": {
        "id": "RREHXw6dydzd"
      }
    },
    {
      "cell_type": "markdown",
      "source": [
        "Get the score value on train *dataset*\n"
      ],
      "metadata": {
        "id": "VWHqbCktz2OD"
      }
    },
    {
      "cell_type": "code",
      "source": [
        "lasso_train_r2_score = lasso_reg.score(X_train, y_train)\n",
        "y_train_pred_lasso = lasso_reg.predict(X_train)\n",
        "lasso_train_mse = mean_squared_error(y_train, y_train_pred_lasso)\n",
        "\n",
        "print(\"R² score on training (Lasso):\", lasso_train_r2_score)\n",
        "print(\"MSE on training (Lasso):\", lasso_train_mse)\n",
        "print(\"\\n\",y_train_pred_lasso)"
      ],
      "metadata": {
        "id": "RbHNlgfTz2WI",
        "colab": {
          "base_uri": "https://localhost:8080/"
        },
        "outputId": "7c671424-c783-4d5d-913a-bf0d1e8d97e6"
      },
      "execution_count": null,
      "outputs": [
        {
          "output_type": "stream",
          "name": "stdout",
          "text": [
            "R² score on training (Lasso): 0.8947471351684364\n",
            "MSE on training (Lasso): 8.024718434831751\n",
            "\n",
            " [22.05320868 25.31505374 25.24875617 23.8834534  21.18672068  7.89156902\n",
            " 21.87304535 27.21780671 17.63254241 19.89144272 21.79511837 31.53723814\n",
            " 23.99229406 18.48904636 14.37293901 22.87861487 15.03825256 27.65212007\n",
            " 27.18503442 22.29367255 23.8974095  16.55189373 24.37795511 16.27476013\n",
            " 19.35589949 11.68160797 14.98818636 15.023353   19.20603594 32.86774639\n",
            " 20.95801554 22.01643061 18.21360205 19.93500727 22.23498117 17.1493518\n",
            " 25.87975734 14.08248737 18.90631299 18.05272343 15.67182899 23.77726181\n",
            " 16.96784719 29.39291078 18.09683625 31.41428338 23.08607978 23.56645386\n",
            " 16.82759157  9.97891839 20.18257663 23.22054411 33.86651926 17.00882075\n",
            " 14.65199938 18.28043151 24.20488291 21.78257403 15.82307849 17.86225937\n",
            " 25.71493635 14.67062701 53.96331101 29.74437481 19.32415164 35.81377418\n",
            " 20.85128452 34.94863851 20.65421566 29.47294299 14.90998172 22.94071125\n",
            " 26.79476529 20.50827817 17.76509475 48.70400536 27.01258175 11.21920278\n",
            " 34.39558159 18.45461057 24.38113793 13.12208999 23.42914634 26.06666652\n",
            " 26.59161221 19.3772767  21.34163449 21.79722192 19.29858849 22.79067263\n",
            " 20.48363152 18.26261136 29.17092424 23.33270374 22.53676339 15.20607035\n",
            " 24.35607013 20.99828252 17.60519175 19.04958215 17.59767385  9.66794251\n",
            " 35.9602854  21.8872218  42.81849501 12.67001815 23.85593734 21.31735414\n",
            " 13.10384239 33.40369399 18.69044699 15.85343729 37.61623329 33.89597139\n",
            " 23.25823099 15.68086834 25.9191485  26.24482933 33.06127668 25.13575774\n",
            " 18.91201046 33.1233756  11.77228439 25.41085626 18.71596202 18.43785158\n",
            " 19.29013755 34.31413618 23.92265572 18.76967676 28.48482534 13.77848682\n",
            " 18.27999705 16.75076268 16.73601015 25.72892059 25.42557951 12.34362728\n",
            " 16.5939214  27.84213668 33.80037832 25.48085407 21.46533232 23.16279129\n",
            " 21.04413445 18.24573905 19.77827377 22.07100893 31.66414726 19.62960419\n",
            " 10.49503139 21.36496395 29.85383405 26.78530503  7.33255869 36.13420001\n",
            " 20.80490343 16.50632674 16.25329705 32.18396428 43.92393951 17.59796243\n",
            " 19.97690283 13.14986525 23.34521589 18.36579441 19.90137628 30.95588065\n",
            " 14.32548536 23.05007217 22.15985151 19.08257813 22.27262825 19.30865586\n",
            " 19.96708565 23.36300533 38.86953878 21.71083927 24.07760844 16.02427598\n",
            " 13.5233422  21.83733151  5.65806386 10.51851922 15.8575522  26.65262498\n",
            " 33.26868856 12.70234748 23.65204593 20.10683086 12.2201252  10.37246393\n",
            " 17.74066735 20.44923717 17.37912258 31.38643132 24.23594176 31.91706682\n",
            " 18.5666254  17.41833015 31.16433403 24.96036675 17.96901627 10.91493904\n",
            " 16.67166743 10.57990441 19.34848969 15.20824231 20.11262478 42.79964721\n",
            " 13.40022796 22.27437692 14.39874355 26.9693259  42.48972334 21.83271055\n",
            " 10.16054336 12.46470088 26.90151435 22.15363449 35.38975728 20.24329001\n",
            " 14.4801496  10.46185208 15.29735754 39.88878859 18.78104574 26.99945516\n",
            " 18.06180813 24.11137483 36.33850017 11.10124954 19.81746558 12.24656907\n",
            " 17.33231448 24.47367861 17.34787653 17.24531412  8.39364278 28.09441805\n",
            " 23.79163561 13.79026779 25.43150272 14.31334061 19.8626298  16.62456495\n",
            " 17.94323928 13.23756944 21.00969663 32.40020155  6.40689431 20.27561921\n",
            "  8.08755408 13.0304377  21.60374664 29.06441065 32.01726931 31.21313812\n",
            " 20.3751978  26.04956023 16.27709202 20.86527544 37.692072   20.97029656\n",
            " 29.06367953 14.21816059  3.89516934 16.01410898 24.04589594 42.51487078\n",
            " 21.31411314 15.56031802 10.65788932 13.08395285 26.61958681 15.29904841\n",
            " 33.44594752 25.96401534 42.70024227 25.29926871 12.50188419 14.50645723\n",
            " 12.17752442  9.97074785 14.29578771 26.91942218 15.34546878 24.7534995\n",
            " 16.35111578 30.41275855 20.62873551 26.61368861 12.78318019 35.48145988\n",
            " 18.50181962 32.00454     9.20300462 27.04284679 29.28952372 15.49776364\n",
            " 34.029459   21.55691659 46.19700915 25.3407427  34.36691083 15.59740234\n",
            " 19.73157591 31.02728839 45.1668378  15.49000328 20.83184177 30.50499085\n",
            "  8.75908342 20.27629254 26.711111   14.76016446 21.16924168 18.13443944\n",
            " 21.54184885 21.11712741 18.93689688 47.1409705  23.00620381 12.1550177\n",
            " 20.14762131 17.63497535 10.80786974 19.27244075 29.40645817 26.96482286\n",
            " 21.12604106 20.15442579 32.71642545 16.82045401 41.43191906 27.24986899\n",
            " 27.69507879 15.9423115  17.71981137 20.68938827 33.5088269  19.94460486\n",
            " 19.7107904  20.10392889  9.4477448  47.48489359 17.71265977 17.99624289\n",
            " 22.98710943 17.5978018  51.22377508 24.68297434 25.44650247 18.89877946\n",
            " 19.02327968 22.35486205 16.08888063 26.14097032 31.81105178 34.78245816\n",
            " 22.50366959 16.12008634 30.62931649 27.91660091 19.60215222 22.71343496\n",
            " 23.23645416 13.80540445 19.34068367  8.97224841  9.30129437  4.51761306\n",
            " 16.08873261 24.43061794  7.71180569 19.99480079 20.43900826 20.06093668\n",
            " 13.75050591 27.69076211 14.56916434 34.85657754 23.76429104 35.66891782\n",
            " 23.41661174 20.46519613 21.40282739 19.80135051 19.29982193 13.81422318\n",
            " 21.14560337 39.88323746 14.86797592 15.85301078 31.88476908 43.64588938\n",
            " 26.63451953 21.60196666 23.97906237 15.41828453 21.9925803  22.45992201\n",
            " 16.2337451  19.41900629]\n"
          ]
        }
      ]
    },
    {
      "cell_type": "markdown",
      "source": [
        "Predict the value of \"y\" for each \"x\" belonging to the \"testing\" set"
      ],
      "metadata": {
        "id": "hjI1nMXVz2f2"
      }
    },
    {
      "cell_type": "code",
      "source": [
        "y_pred_lasso = lasso_reg.predict(X_test)\n",
        "\n",
        "lasso_test_r2_score = r2_score(y_test, y_pred_lasso)\n",
        "lasso_test_mse = mean_squared_error(y_test, y_pred_lasso)\n",
        "\n",
        "print(\"\\nR² score on testing (Lasso):\", lasso_test_r2_score)\n",
        "print(\"MSE on testing (Lasso):\", lasso_test_mse)\n",
        "print(\"\\n\",y_pred_lasso)"
      ],
      "metadata": {
        "id": "KfOWH0oQz2mY",
        "colab": {
          "base_uri": "https://localhost:8080/"
        },
        "outputId": "6311b2dc-cbd2-4a6f-838b-4d9c6aa78c5e"
      },
      "execution_count": null,
      "outputs": [
        {
          "output_type": "stream",
          "name": "stdout",
          "text": [
            "\n",
            "R² score on testing (Lasso): 0.8910350512215238\n",
            "MSE on testing (Lasso): 12.172105765394877\n",
            "\n",
            " [ 7.3057512  18.88650486 22.07080101 25.64128659 10.46022554 25.64818569\n",
            " 23.88880506 28.81724915 45.34269405 21.10902079 22.45964862 35.46976352\n",
            " 20.38990781 26.0413881  39.44873223 22.96884235 33.56087599 15.06200324\n",
            " 23.67192729 24.1825059  16.19167522 20.87178582 26.90514317 22.16045791\n",
            " 18.86383721 21.23712599 10.54387497  7.68679741 32.97482092  9.33644405\n",
            " 47.24540539 21.61835579 21.25342816 14.76538385 23.6890458  22.35330115\n",
            " 32.01437935 21.71742125 18.81535657 43.5326813  10.25406173 34.19078435\n",
            " 44.7775816  16.62126683 21.13875091 19.17318839 16.44777597 30.13849531\n",
            " 47.69805809 11.83071769 27.9112863  48.20044963 15.26657509 28.70738833\n",
            " 25.86831836  9.69237709 20.39758537 28.11541861 35.10431992 23.65651865\n",
            " 18.12972078 27.73378483 15.51760039 28.10850524 19.37171193 21.01467534\n",
            " 21.64727753 40.80622196 25.84124438 35.60004617 52.11256185 14.17622754\n",
            " 11.06950103 25.07347816 10.12872793 30.24499259 53.91594167 20.82465136\n",
            " 28.87157004 20.92416454 17.97850463 11.63922797 18.54465733 22.09938523\n",
            " 22.12729473 29.85612203 33.12372169 24.96881062 26.93615832 27.41124208\n",
            " 23.3493905  22.29020768 17.18398978 37.94460677 17.54256612 22.53005805\n",
            " 21.47039041 44.10802624 20.0053863  22.12763855 33.83762222 42.0159707 ]\n"
          ]
        }
      ]
    },
    {
      "cell_type": "markdown",
      "source": [
        "# Ridge Regularization(L2)"
      ],
      "metadata": {
        "id": "XHpNCGELFZsu"
      }
    },
    {
      "cell_type": "markdown",
      "source": [
        "L2 regularization, also known as Ridge regularization, is a technique used in regression models to prevent overfitting by adding a penalty equivalent to the square of the magnitude of coefficients to the loss function.\n",
        "</br>\n",
        "Train a regression model using L2 regularization."
      ],
      "metadata": {
        "id": "qsVvbx5vy3LP"
      }
    },
    {
      "cell_type": "code",
      "source": [
        "ridge_reg = Ridge(alpha=1.0)\n",
        "ridge_reg.fit(X_train, y_train)"
      ],
      "metadata": {
        "id": "ww93tqpWwq99",
        "colab": {
          "base_uri": "https://localhost:8080/",
          "height": 75
        },
        "outputId": "63d7b4fe-b7c9-4f71-af5e-bf2faaf08dbc"
      },
      "execution_count": null,
      "outputs": [
        {
          "output_type": "execute_result",
          "data": {
            "text/plain": [
              "Ridge()"
            ],
            "text/html": [
              "<style>#sk-container-id-5 {color: black;background-color: white;}#sk-container-id-5 pre{padding: 0;}#sk-container-id-5 div.sk-toggleable {background-color: white;}#sk-container-id-5 label.sk-toggleable__label {cursor: pointer;display: block;width: 100%;margin-bottom: 0;padding: 0.3em;box-sizing: border-box;text-align: center;}#sk-container-id-5 label.sk-toggleable__label-arrow:before {content: \"▸\";float: left;margin-right: 0.25em;color: #696969;}#sk-container-id-5 label.sk-toggleable__label-arrow:hover:before {color: black;}#sk-container-id-5 div.sk-estimator:hover label.sk-toggleable__label-arrow:before {color: black;}#sk-container-id-5 div.sk-toggleable__content {max-height: 0;max-width: 0;overflow: hidden;text-align: left;background-color: #f0f8ff;}#sk-container-id-5 div.sk-toggleable__content pre {margin: 0.2em;color: black;border-radius: 0.25em;background-color: #f0f8ff;}#sk-container-id-5 input.sk-toggleable__control:checked~div.sk-toggleable__content {max-height: 200px;max-width: 100%;overflow: auto;}#sk-container-id-5 input.sk-toggleable__control:checked~label.sk-toggleable__label-arrow:before {content: \"▾\";}#sk-container-id-5 div.sk-estimator input.sk-toggleable__control:checked~label.sk-toggleable__label {background-color: #d4ebff;}#sk-container-id-5 div.sk-label input.sk-toggleable__control:checked~label.sk-toggleable__label {background-color: #d4ebff;}#sk-container-id-5 input.sk-hidden--visually {border: 0;clip: rect(1px 1px 1px 1px);clip: rect(1px, 1px, 1px, 1px);height: 1px;margin: -1px;overflow: hidden;padding: 0;position: absolute;width: 1px;}#sk-container-id-5 div.sk-estimator {font-family: monospace;background-color: #f0f8ff;border: 1px dotted black;border-radius: 0.25em;box-sizing: border-box;margin-bottom: 0.5em;}#sk-container-id-5 div.sk-estimator:hover {background-color: #d4ebff;}#sk-container-id-5 div.sk-parallel-item::after {content: \"\";width: 100%;border-bottom: 1px solid gray;flex-grow: 1;}#sk-container-id-5 div.sk-label:hover label.sk-toggleable__label {background-color: #d4ebff;}#sk-container-id-5 div.sk-serial::before {content: \"\";position: absolute;border-left: 1px solid gray;box-sizing: border-box;top: 0;bottom: 0;left: 50%;z-index: 0;}#sk-container-id-5 div.sk-serial {display: flex;flex-direction: column;align-items: center;background-color: white;padding-right: 0.2em;padding-left: 0.2em;position: relative;}#sk-container-id-5 div.sk-item {position: relative;z-index: 1;}#sk-container-id-5 div.sk-parallel {display: flex;align-items: stretch;justify-content: center;background-color: white;position: relative;}#sk-container-id-5 div.sk-item::before, #sk-container-id-5 div.sk-parallel-item::before {content: \"\";position: absolute;border-left: 1px solid gray;box-sizing: border-box;top: 0;bottom: 0;left: 50%;z-index: -1;}#sk-container-id-5 div.sk-parallel-item {display: flex;flex-direction: column;z-index: 1;position: relative;background-color: white;}#sk-container-id-5 div.sk-parallel-item:first-child::after {align-self: flex-end;width: 50%;}#sk-container-id-5 div.sk-parallel-item:last-child::after {align-self: flex-start;width: 50%;}#sk-container-id-5 div.sk-parallel-item:only-child::after {width: 0;}#sk-container-id-5 div.sk-dashed-wrapped {border: 1px dashed gray;margin: 0 0.4em 0.5em 0.4em;box-sizing: border-box;padding-bottom: 0.4em;background-color: white;}#sk-container-id-5 div.sk-label label {font-family: monospace;font-weight: bold;display: inline-block;line-height: 1.2em;}#sk-container-id-5 div.sk-label-container {text-align: center;}#sk-container-id-5 div.sk-container {/* jupyter's `normalize.less` sets `[hidden] { display: none; }` but bootstrap.min.css set `[hidden] { display: none !important; }` so we also need the `!important` here to be able to override the default hidden behavior on the sphinx rendered scikit-learn.org. See: https://github.com/scikit-learn/scikit-learn/issues/21755 */display: inline-block !important;position: relative;}#sk-container-id-5 div.sk-text-repr-fallback {display: none;}</style><div id=\"sk-container-id-5\" class=\"sk-top-container\"><div class=\"sk-text-repr-fallback\"><pre>Ridge()</pre><b>In a Jupyter environment, please rerun this cell to show the HTML representation or trust the notebook. <br />On GitHub, the HTML representation is unable to render, please try loading this page with nbviewer.org.</b></div><div class=\"sk-container\" hidden><div class=\"sk-item\"><div class=\"sk-estimator sk-toggleable\"><input class=\"sk-toggleable__control sk-hidden--visually\" id=\"sk-estimator-id-5\" type=\"checkbox\" checked><label for=\"sk-estimator-id-5\" class=\"sk-toggleable__label sk-toggleable__label-arrow\">Ridge</label><div class=\"sk-toggleable__content\"><pre>Ridge()</pre></div></div></div></div></div>"
            ]
          },
          "metadata": {},
          "execution_count": 54
        }
      ]
    },
    {
      "cell_type": "markdown",
      "source": [
        "Get the coefficients of the variables and visualize it."
      ],
      "metadata": {
        "id": "EwXQdOdQ0c4y"
      }
    },
    {
      "cell_type": "code",
      "source": [
        "ridge_coefficients = ridge_reg.coef_\n",
        "print(\"Coefficients of the variables (Ridge):\\n\", ridge_coefficients)\n",
        "\n",
        "\n",
        "plt.figure(figsize=(10, 6))\n",
        "sns.barplot(ridge_coefficients, native_scale=True, color = 'RED')\n",
        "plt.show()"
      ],
      "metadata": {
        "id": "CmVqcA6r0dEe",
        "colab": {
          "base_uri": "https://localhost:8080/",
          "height": 817
        },
        "outputId": "7e8c94b2-e7ef-4804-80da-f85f15e6fee1"
      },
      "execution_count": null,
      "outputs": [
        {
          "output_type": "stream",
          "name": "stdout",
          "text": [
            "Coefficients of the variables (Ridge):\n",
            " [ 0.          0.71097574  0.18232671 -0.24454002 -2.10480622 -1.93345719\n",
            "  3.31110207 -1.40258057 -3.15252886 -0.57259658 -0.85717852  0.84619281\n",
            " -3.16296587  0.11648538 -1.33314971 -0.41526737  3.61407297 -2.24411389\n",
            " -0.1394842  -0.28703462 -1.00323904  0.18989209 -1.0118476   0.02441893\n",
            "  0.18125184 -0.05978646  0.27135518  0.2682204  -1.41147715 -0.23110236\n",
            "  0.073419   -0.47570223  1.31591768  0.02452056 -1.33267679 -0.89641391\n",
            "  0.37282318  0.31569221  1.27232596  0.46501349  0.98558728  2.01445567\n",
            " -0.91030217 -0.18775336  0.31594973 -0.87116037  1.0673158  -1.16194184\n",
            " -0.85713941 -0.36113545 -0.54600085  0.23182161 -0.3900487  -0.01061907\n",
            " -0.27369547 -0.07355029 -0.7096911  -0.26252993  3.19758311  0.17777578\n",
            " -1.27412421 -0.37516545  0.71190951  0.32959354 -0.36357716  0.68825664\n",
            " -0.60031672 -1.5649091  -0.21120715 -0.21789552  0.43018284  0.453816\n",
            " -0.5432761   0.039567   -1.46294471 -0.98795486  2.48223648 -2.61309208\n",
            " -0.32396929  0.14685817  1.18231485  0.52588835  2.81179455 -0.52313897\n",
            " -1.58494269 -0.22490842 -0.09559805 -0.46781254 -0.37280304 -0.29648174\n",
            "  1.10900344]\n"
          ]
        },
        {
          "output_type": "display_data",
          "data": {
            "text/plain": [
              "<Figure size 1000x600 with 1 Axes>"
            ],
            "image/png": "[encoded data removed]"
          },
          "metadata": {}
        }
      ]
    },
    {
      "cell_type": "markdown",
      "source": [
        "Compare the effect on coefficients between L1 and L2 regularization. What are the key differences?\n",
        "\n",
        " How does the regularization parameter influence the magnitude of the coefficients in Ridge Regression?"
      ],
      "metadata": {
        "id": "uc_LYcVZ0dOQ"
      }
    },
    {
      "cell_type": "markdown",
      "source": [
        "**1. Differences:**\n",
        "\n",
        "* **Lasso** can perform *feature selection* by shrinking some coefficients exactly to zero, whereas **Ridge** can only shrink coefficients *toward* zero.\n",
        "* **Lasso** tends to produce a *sparse model*, while **Ridge** results in a *more continuous distribution* of coefficient values.\n",
        "\n",
        "**2. As alpha increases:**\n",
        "\n",
        "* The *penalty* on the coefficients becomes larger.\n",
        "* The *magnitude* of the coefficients decreases, approaching zero.\n",
        "* A *very large alpha* can cause all coefficients to approach zero, effectively creating a model that *ignores the data*.\n",
        "\n",
        "\n"
      ],
      "metadata": {
        "id": "vz3VZj1H1E5D"
      }
    },
    {
      "cell_type": "markdown",
      "source": [
        "Get the score value on train *dataset*"
      ],
      "metadata": {
        "id": "8-vwV52g1KaB"
      }
    },
    {
      "cell_type": "code",
      "source": [
        "ridge_train_r2_score = ridge_reg.score(X_train, y_train)\n",
        "y_train_pred_ridge = ridge_reg.predict(X_train)\n",
        "ridge_train_mse = mean_squared_error(y_train, y_train_pred_ridge)\n",
        "\n",
        "print(\"R² score on training (Ridge):\", ridge_train_r2_score)\n",
        "print(\"MSE on training (Ridge):\", ridge_train_mse)"
      ],
      "metadata": {
        "id": "WgrPqaBF0dlc",
        "colab": {
          "base_uri": "https://localhost:8080/"
        },
        "outputId": "0ff612aa-3d49-4fd3-98b8-7bc611c5320d"
      },
      "execution_count": null,
      "outputs": [
        {
          "output_type": "stream",
          "name": "stdout",
          "text": [
            "R² score on training (Ridge): 0.897387018325107\n",
            "MSE on training (Ridge): 7.823447722941503\n"
          ]
        }
      ]
    },
    {
      "cell_type": "markdown",
      "source": [
        "Predict the value of \"y\" for each \"x\" belonging to the \"testing\" set\n",
        "\n"
      ],
      "metadata": {
        "id": "94nftWCR0dtC"
      }
    },
    {
      "cell_type": "code",
      "source": [
        "y_pred_ridge = ridge_reg.predict(X_test)\n",
        "\n",
        "ridge_test_r2_score = r2_score(y_test, y_pred_ridge)\n",
        "ridge_test_mse = mean_squared_error(y_test, y_pred_ridge)\n",
        "\n",
        "print(\"R² score on testing (Ridge):\", ridge_test_r2_score)\n",
        "print(\"MSE on testing (Ridge):\", ridge_test_mse)"
      ],
      "metadata": {
        "id": "ivsbD08X0d1E",
        "colab": {
          "base_uri": "https://localhost:8080/"
        },
        "outputId": "7797c8cf-5aa3-4c2e-de9b-222324adde6a"
      },
      "execution_count": null,
      "outputs": [
        {
          "output_type": "stream",
          "name": "stdout",
          "text": [
            "R² score on testing (Ridge): 0.8851562597793854\n",
            "MSE on testing (Ridge): 12.828805667598134\n"
          ]
        }
      ]
    },
    {
      "cell_type": "markdown",
      "source": [
        "# Summarization"
      ],
      "metadata": {
        "id": "u6iKDyiwF-2q"
      }
    },
    {
      "cell_type": "markdown",
      "source": [
        "Summarize the performance metrics (e.g., RMSE, R² score) of the basic regression model, Lasso regression, and Ridge regression in a table for easy comparison.(On both test and train data)</br>\n",
        "if you are not familiar with R-squared concept see the link below:\n",
        "[R-squared](https://statisticsbyjim.com/regression/interpret-r-squared-regression/)\n"
      ],
      "metadata": {
        "id": "gY7NOCfB0d9K"
      }
    },
    {
      "cell_type": "code",
      "source": [
        "models = {\n",
        "    'Basic': linear_reg,\n",
        "    'Lasso': lasso_reg,\n",
        "    'Ridge': ridge_reg\n",
        "}\n",
        "\n",
        "results = {\n",
        "    'Regression_Model': [],\n",
        "    'MSE(Test)': [],\n",
        "    'MSE(Train)': [],\n",
        "    'R2_Score(Test)': [],\n",
        "    'R2_Score(Train)': []\n",
        "}\n",
        "\n",
        "for Regression_Model_name, Regression_Model in models.items():\n",
        "    model.fit(X_train, y_train)\n",
        "\n",
        "    y_pred_train = Regression_Model.predict(X_train)\n",
        "    y_pred_test = Regression_Model.predict(X_test)\n",
        "\n",
        "    mse_train = mean_squared_error(y_train, y_pred_train)\n",
        "    r2_train = r2_score(y_train, y_pred_train)\n",
        "\n",
        "    mse_test = mean_squared_error(y_test, y_pred_test)\n",
        "    r2_test = r2_score(y_test, y_pred_test)\n",
        "\n",
        "    results['Regression_Model'].append(Regression_Model_name)\n",
        "    results['MSE(Train)'].append(mse_train)\n",
        "    results['MSE(Test)'].append(mse_test)\n",
        "    results['R2_Score(Train)'].append(r2_train)\n",
        "    results['R2_Score(Test)'].append(r2_test)\n",
        "\n",
        "results_df = pd.DataFrame(results)\n",
        "\n",
        "print(results_df)"
      ],
      "metadata": {
        "id": "3gI-6r2r0eEx",
        "colab": {
          "base_uri": "https://localhost:8080/"
        },
        "outputId": "d998bbb9-b651-48b9-a741-6d7100445bca"
      },
      "execution_count": null,
      "outputs": [
        {
          "output_type": "stream",
          "name": "stdout",
          "text": [
            "  Regression_Model  MSE(Test)  MSE(Train)  R2_Score(Test)  R2_Score(Train)\n",
            "0            Basic  14.528105    7.760688        0.869944         0.898210\n",
            "1            Lasso  12.172106    8.024718        0.891035         0.894747\n",
            "2            Ridge  12.828806    7.823448        0.885156         0.897387\n"
          ]
        }
      ]
    },
    {
      "cell_type": "markdown",
      "source": [
        " *Which model performed best on the test data?</br>\n",
        "Why the results on train data are different? </br>"
      ],
      "metadata": {
        "id": "dB2x-l231Soo"
      }
    },
    {
      "cell_type": "markdown",
      "source": [
        "The **Ridge regression model** performed better than the **baseline regression** and **Lasso regression** in terms of the $R²$ score on the test data.\n",
        "The difference between the training and test results may be due to factors such as **overfitting**, **model complexity**, **regularization effects**, **data variability**, **optimization bias**, **sample size**, and **model assumptions**.\n",
        "\n",
        "**Ridge regression** performs better because of its effective handling of **regularization**, which controls model complexity and overfitting, leading to **better generalization** on test data."
      ],
      "metadata": {
        "id": "dRIs24F91SsH"
      }
    }
  ]
}